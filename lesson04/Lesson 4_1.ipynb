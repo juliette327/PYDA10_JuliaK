{
 "cells": [
  {
   "cell_type": "code",
   "execution_count": 35,
   "metadata": {},
   "outputs": [],
   "source": [
    "documents = [\n",
    "    {'type': 'passport', 'number': '2207 876234', 'name': 'Василий Гупкин'},\n",
    "    {'type': 'invoice', 'number': '11-2', 'name': 'Геннадий Покемонов'},\n",
    "    {'type': 'insurance', 'number': '10006', 'name': 'Аристарх Павлов'}\n",
    "]\n",
    "\n",
    "\n",
    "directories = {\n",
    "    '1': ['2207 876234', '11-2'],\n",
    "    '2': ['10006'],\n",
    "    '3': []\n",
    "}\n"
   ]
  },
  {
   "cell_type": "code",
   "execution_count": 36,
   "metadata": {},
   "outputs": [
    {
     "name": "stdout",
     "output_type": "stream",
     "text": [
      "Введите номер документа: \n",
      "Документ не найден\n"
     ]
    }
   ],
   "source": [
    "#p – people – команда, которая спросит номер документа и выведет имя человека, которому он принадлежит;\n",
    "\n",
    "def print_name(docs):\n",
    "    doc_num = input('Введите номер документа: ')\n",
    "    for d in docs:\n",
    "        if d['number'] == doc_num:\n",
    "            return(d['name'])\n",
    "    return('Документ не найден')\n",
    "print(print_name(documents))"
   ]
  },
  {
   "cell_type": "code",
   "execution_count": 37,
   "metadata": {},
   "outputs": [
    {
     "name": "stdout",
     "output_type": "stream",
     "text": [
      "Введите номер документа: \n",
      "Документ не найден\n"
     ]
    }
   ],
   "source": [
    "#s – shelf – команда, которая спросит номер документа и выведет номер полки, на которой он находится\n",
    "#Правильно обработайте ситуации, когда пользователь будет вводить несуществующий документ.\n",
    "\n",
    "def print_shelf(direct):\n",
    "    doc_num1 = input('Введите номер документа: ')\n",
    "    for key, doc in direct.items():\n",
    "        if doc_num1 in doc:\n",
    "            return key\n",
    "    return('Документ не найден')\n",
    "print(print_shelf(directories))"
   ]
  },
  {
   "cell_type": "code",
   "execution_count": 38,
   "metadata": {},
   "outputs": [
    {
     "name": "stdout",
     "output_type": "stream",
     "text": [
      "passport 2207 876234 Василий Гупкин\n",
      "invoice 11-2 Геннадий Покемонов\n",
      "insurance 10006 Аристарх Павлов\n",
      "None\n"
     ]
    }
   ],
   "source": [
    "#l – list – команда, которая выведет список всех документов в формате\n",
    "#passport \"2207 876234\" \"Василий Гупкин\"\n",
    "\n",
    "def print_all_documents():\n",
    "    for d in documents:\n",
    "        print (d['type'] + ' ' + d['number'] + ' ' + d['name'])\n",
    "print(print_all_documents())"
   ]
  },
  {
   "cell_type": "code",
   "execution_count": 39,
   "metadata": {},
   "outputs": [
    {
     "name": "stdout",
     "output_type": "stream",
     "text": [
      "Введите номер полки: \n",
      "None\n",
      "{'1': ['2207 876234', '11-2'], '2': ['10006'], '3': [], '': None}\n"
     ]
    }
   ],
   "source": [
    "#as – add shelf – команда, которая спросит номер новой полки и добавит ее в перечень. Предусмотрите случай, когда пользователь добавляет полку, которая уже существует.\n",
    "\n",
    "def add_shelf(direc):\n",
    "    sh_input = input('Введите номер полки: ')\n",
    "    if sh_input not in direc.keys():\n",
    "        return direc.setdefault(sh_input)\n",
    "    return('Полка уже существует')\n",
    "print(add_shelf(directories))\n",
    "print(directories)"
   ]
  },
  {
   "cell_type": "code",
   "execution_count": 62,
   "metadata": {},
   "outputs": [
    {
     "name": "stdout",
     "output_type": "stream",
     "text": [
      "Введите номер документа 10006\n",
      "Введите номер новой полки 3\n",
      "Документ найден\n"
     ]
    },
    {
     "ename": "TypeError",
     "evalue": "argument of type 'NoneType' is not iterable",
     "output_type": "error",
     "traceback": [
      "\u001b[1;31m---------------------------------------------------------------------------\u001b[0m",
      "\u001b[1;31mTypeError\u001b[0m                                 Traceback (most recent call last)",
      "\u001b[1;32m<ipython-input-62-c0bf75038ed5>\u001b[0m in \u001b[0;36m<module>\u001b[1;34m\u001b[0m\n\u001b[0;32m     16\u001b[0m     \u001b[1;32mreturn\u001b[0m \u001b[1;33m(\u001b[0m\u001b[1;34m'Полка не существует'\u001b[0m\u001b[1;33m)\u001b[0m\u001b[1;33m\u001b[0m\u001b[1;33m\u001b[0m\u001b[0m\n\u001b[0;32m     17\u001b[0m \u001b[1;33m\u001b[0m\u001b[0m\n\u001b[1;32m---> 18\u001b[1;33m \u001b[0mprint\u001b[0m\u001b[1;33m(\u001b[0m\u001b[0mmove\u001b[0m\u001b[1;33m(\u001b[0m\u001b[0mdirectories\u001b[0m\u001b[1;33m)\u001b[0m\u001b[1;33m)\u001b[0m\u001b[1;33m\u001b[0m\u001b[1;33m\u001b[0m\u001b[0m\n\u001b[0m",
      "\u001b[1;32m<ipython-input-62-c0bf75038ed5>\u001b[0m in \u001b[0;36mmove\u001b[1;34m(shelfs)\u001b[0m\n\u001b[0;32m      7\u001b[0m     \u001b[0mnew_shelf\u001b[0m \u001b[1;33m=\u001b[0m \u001b[0minput\u001b[0m\u001b[1;33m(\u001b[0m\u001b[1;34m'Введите номер новой полки '\u001b[0m\u001b[1;33m)\u001b[0m\u001b[1;33m\u001b[0m\u001b[1;33m\u001b[0m\u001b[0m\n\u001b[0;32m      8\u001b[0m     \u001b[1;32mfor\u001b[0m \u001b[0mdocuments_per_shelf\u001b[0m \u001b[1;32min\u001b[0m \u001b[0mshelfs\u001b[0m\u001b[1;33m.\u001b[0m\u001b[0mvalues\u001b[0m\u001b[1;33m(\u001b[0m\u001b[1;33m)\u001b[0m\u001b[1;33m:\u001b[0m\u001b[1;33m\u001b[0m\u001b[1;33m\u001b[0m\u001b[0m\n\u001b[1;32m----> 9\u001b[1;33m         \u001b[1;32mif\u001b[0m \u001b[0mdocum_num\u001b[0m \u001b[1;32min\u001b[0m \u001b[0mdocuments_per_shelf\u001b[0m\u001b[1;33m:\u001b[0m\u001b[1;33m\u001b[0m\u001b[1;33m\u001b[0m\u001b[0m\n\u001b[0m\u001b[0;32m     10\u001b[0m             \u001b[0mprint\u001b[0m\u001b[1;33m(\u001b[0m\u001b[1;34m'Документ найден'\u001b[0m\u001b[1;33m)\u001b[0m\u001b[1;33m\u001b[0m\u001b[1;33m\u001b[0m\u001b[0m\n\u001b[0;32m     11\u001b[0m     \u001b[1;32mreturn\u001b[0m\u001b[1;33m(\u001b[0m\u001b[1;34m'Такой документ не существует'\u001b[0m\u001b[1;33m)\u001b[0m\u001b[1;33m\u001b[0m\u001b[1;33m\u001b[0m\u001b[0m\n",
      "\u001b[1;31mTypeError\u001b[0m: argument of type 'NoneType' is not iterable"
     ]
    }
   ],
   "source": [
    "#m – move – команда, которая спросит номер документа и целевую полку и переместит его с текущей полки на целевую.\n",
    "#Корректно обработайте кейсы, когда пользователь пытается переместить несуществующий документ \n",
    "#или переместить документ на несуществующую полку;\n",
    "\n",
    "def move(shelfs):\n",
    "    docum_num = input('Введите номер документа ')\n",
    "    new_shelf = input('Введите номер новой полки ')\n",
    "    for documents_per_shelf in shelfs.values():\n",
    "        if docum_num in documents_per_shelf:\n",
    "            print('Документ найден')\n",
    "    return('Такой документ не существует')\n",
    "    for shelf, doc_per_shelf in shelfs.items():\n",
    "        if new_shelf in shelf:\n",
    "            shelfs[new_shelf].append([docum_num])\n",
    "            doc_per_shelf.remove(docum_num)\n",
    "    return ('Полка не существует')\n",
    "            \n",
    "print(move(directories))"
   ]
  },
  {
   "cell_type": "code",
   "execution_count": null,
   "metadata": {},
   "outputs": [],
   "source": []
  }
 ],
 "metadata": {
  "kernelspec": {
   "display_name": "Python 3",
   "language": "python",
   "name": "python3"
  },
  "language_info": {
   "codemirror_mode": {
    "name": "ipython",
    "version": 3
   },
   "file_extension": ".py",
   "mimetype": "text/x-python",
   "name": "python",
   "nbconvert_exporter": "python",
   "pygments_lexer": "ipython3",
   "version": "3.7.6"
  }
 },
 "nbformat": 4,
 "nbformat_minor": 4
}
