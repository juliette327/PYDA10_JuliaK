{
 "cells": [
  {
   "cell_type": "code",
   "execution_count": 17,
   "metadata": {},
   "outputs": [],
   "source": [
    "documents = [\n",
    "    {'type': 'passport', 'number': '2207 876234', 'name': 'Василий Гупкин'},\n",
    "    {'type': 'invoice', 'number': '11-2', 'name': 'Геннадий Покемонов'},\n",
    "    {'type': 'insurance', 'number': '10006', 'name': 'Аристарх Павлов'}\n",
    "]\n",
    "\n",
    "\n",
    "directories = {\n",
    "    '1': ['2207 876234', '11-2'],\n",
    "    '2': ['10006'],\n",
    "    '3': []\n",
    "}\n"
   ]
  },
  {
   "cell_type": "code",
   "execution_count": null,
   "metadata": {},
   "outputs": [],
   "source": [
    "#p – people – команда, которая спросит номер документа и выведет имя человека, которому он принадлежит;\n",
    "\n",
    "def print_name(docs):\n",
    "    doc_num = input('Введите номер документа')\n",
    "    for d in docs:\n",
    "        if doc_num in d['number']:\n",
    "            print(d['name'])\n",
    "        else:\n",
    "            print('Документ не найден')\n",
    "print(print_name(documents))"
   ]
  },
  {
   "cell_type": "code",
   "execution_count": null,
   "metadata": {},
   "outputs": [],
   "source": [
    "#s – shelf – команда, которая спросит номер документа и выведет номер полки, на которой он находится\n",
    "#Правильно обработайте ситуации, когда пользователь будет вводить несуществующий документ.\n",
    "\n",
    "def print_shelf(dir):\n",
    "    doc_num1 = input('Введите номер документа')\n",
    "    i = 0\n",
    "    for key, doc in directories.items():\n",
    "        if doc_num1 in doc:\n",
    "            return key\n",
    "        else:\n",
    "            return('Документ не найден')\n",
    "print(print_shelf(directories))"
   ]
  },
  {
   "cell_type": "code",
   "execution_count": null,
   "metadata": {},
   "outputs": [],
   "source": [
    "#l – list – команда, которая выведет список всех документов в формате\n",
    "#passport \"2207 876234\" \"Василий Гупкин\"\n",
    "\n",
    "def print_all_documents(docs):\n",
    "    for d in documents:\n",
    "        print(d.values())\n",
    "print(print_all_documents(documents))"
   ]
  },
  {
   "cell_type": "code",
   "execution_count": null,
   "metadata": {},
   "outputs": [],
   "source": [
    "#as – add shelf – команда, которая спросит номер новой полки и добавит ее в перечень. Предусмотрите случай, когда пользователь добавляет полку, которая уже существует.\n",
    "\n",
    "def add_shelf(direc):\n",
    "    sh_input = input('Введите номер полки: ')\n",
    "    if sh_input not in sh:\n",
    "        direc.setdefault(sh_input)\n",
    "    else:\n",
    "        print('Полка уже существует')\n",
    "print(add_shelf(directories))\n",
    "print(directories)"
   ]
  },
  {
   "cell_type": "code",
   "execution_count": null,
   "metadata": {},
   "outputs": [],
   "source": [
    "#d – delete – команда, которая спросит номер документа и удалит его из каталога и из перечня полок. Предусмотрите сценарий, когда пользователь вводит несуществующий документ;\n",
    "\n",
    "def delete_shelf(docs, direct):\n",
    "    doc_num = input('Введите номер документа: ')\n",
    "    for el in docs:\n",
    "        if doc_num == el['number']:\n",
    "            docs.remove(el)\n",
    "    for value in direct.values():\n",
    "        if doc_num in value:\n",
    "            value.remove(doc_num)\n",
    "    if doc_num != el['number']:\n",
    "        print('Документ не найден')\n",
    "print(delete_shelf(documents, directories))\n",
    "print(documents, directories)"
   ]
  },
  {
   "cell_type": "code",
   "execution_count": 7,
   "metadata": {},
   "outputs": [
    {
     "name": "stdout",
     "output_type": "stream",
     "text": [
      "Введите номер документа 10006\n",
      "Введите номер новой полки 3\n",
      "None\n",
      "{'1': ['2207 876234', '11-2'], '2': [], '3': [['10006']]}\n"
     ]
    }
   ],
   "source": [
    "#m – move – команда, которая спросит номер документа и целевую полку и переместит его с текущей полки на целевую. Корректно обработайте кейсы, когда пользователь пытается переместить несуществующий документ или переместить документ на несуществующую полку;\n",
    "\n",
    "def move(shelfs):\n",
    "    docum_num = input('Введите номер документа ')\n",
    "    new_shelf = input('Введите номер новой полки ')\n",
    "    for shelf, documents_per10006_shelf in shelfs.items():\n",
    "        if docum_num in documents_per_shelf != new_shelf:\n",
    "            documents_per_shelf.remove(docum_num)\n",
    "        if new_shelf in shelfs.keys() and shelf == new_shelf:\n",
    "            shelfs[new_shelf].append([docum_num])\n",
    "            break\n",
    "print(move(directories))\n",
    "print(directories)"
   ]
  },
  {
   "cell_type": "code",
   "execution_count": null,
   "metadata": {},
   "outputs": [],
   "source": [
    "#a – add – команда, которая добавит новый документ в каталог и в перечень полок, спросив его номер, тип, имя владельца и номер полки, на котором он будет храниться. Корректно обработайте ситуацию, когда пользователь будет пытаться добавить документ на несуществующую полку.\n",
    "\n",
    "def add_doc(catalogue, shelves):\n",
    "    num_d = input('Введите номер документа: ')\n",
    "    type_d = input('Введите тип документа: ')\n",
    "    name_d = input('Введите имя владельца документа: ')\n",
    "    num_sh = input('Введите номер полки: ')\n",
    "    doc_exist = 0\n",
    "    for cat in catalogue:\n",
    "        if num_d in cat.values():\n",
    "            print('Документ уже добавлен')\n",
    "            doc_exist = 1\n",
    "            break\n",
    "    if doc_exist ==0:\n",
    "        catalogue.append({'type': type_d, 'number': num_d, 'name': name_d})\n",
    "    print(documents)\n",
    "\n",
    "    if num_sh in shelves.keys():\n",
    "        shelves[num_sh].append(num_d)\n",
    "        return(catalogue, '    ',shelves)\n",
    "    print('Полка не найдена')\n",
    "print(add_doc(documents, directories))\n",
    "print(documents)\n",
    "print(directories)"
   ]
  },
  {
   "cell_type": "code",
   "execution_count": 21,
   "metadata": {},
   "outputs": [
    {
     "name": "stdout",
     "output_type": "stream",
     "text": [
      "[{'type': 'passport', 'number': '2207 876234', 'name': 'Василий Гупкин'}, {'type': 'invoice', 'number': '11-2', 'name': 'Геннадий Покемонов'}, {'type': 'insurance', 'number': '10006', 'name': 'Аристарх Павлов'}]\n",
      "{'1': ['2207 876234', '11-2'], '2': ['10006'], '3': []}\n"
     ]
    }
   ],
   "source": [
    "def main():\n",
    "    while True:\n",
    "        user_input = input('Введите команду: ')\n",
    "        if user_input == 'p':\n",
    "            print(print_name(documents))\n",
    "        elif user_input == 's':\n",
    "            print(print_shelf(directories))\n",
    "        elif user_input == 'l':\n",
    "            print(print_all_documents(documents))\n",
    "        elif user_input == 'as':\n",
    "            print(add_shelf(directories))\n",
    "        elif user_input == 'd':\n",
    "            print(delete_shelf(documents, directories))\n",
    "        elif user_input == 'm':\n",
    "            print(move(directories))\n",
    "        elif user_input == 'ad':\n",
    "            print(add_doc(documents, directories))\n",
    "        if user_input == 'q':\n",
    "            break\n",
    "print(documents)\n",
    "print(directories)"
   ]
  },
  {
   "cell_type": "code",
   "execution_count": null,
   "metadata": {},
   "outputs": [],
   "source": []
  }
 ],
 "metadata": {
  "kernelspec": {
   "display_name": "Python 3",
   "language": "python",
   "name": "python3"
  },
  "language_info": {
   "codemirror_mode": {
    "name": "ipython",
    "version": 3
   },
   "file_extension": ".py",
   "mimetype": "text/x-python",
   "name": "python",
   "nbconvert_exporter": "python",
   "pygments_lexer": "ipython3",
   "version": "3.7.6"
  }
 },
 "nbformat": 4,
 "nbformat_minor": 4
}
