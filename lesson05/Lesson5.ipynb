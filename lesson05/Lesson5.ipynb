{
 "cells": [
  {
   "cell_type": "code",
   "execution_count": null,
   "metadata": {},
   "outputs": [],
   "source": [
    "import json\n",
    "purchases = {}\n",
    "\n",
    "with open('purchase_log.txt', 'r', encoding = 'utf-8') as f:\n",
    "    content = f.readlines()[1:]\n",
    "    for line in content:\n",
    "        line = line.strip()\n",
    "        \n",
    "        dict_ = json.loads(line)\n",
    "        #print(dict_, type(dict_))\n",
    "        if dict_['user_id'] != 'user_id':\n",
    "            purchases[dict_['user_id']] = dict_['category']\n",
    "print(purchases)"
   ]
  },
  {
   "cell_type": "code",
   "execution_count": null,
   "metadata": {},
   "outputs": [],
   "source": [
    "#Для каждого user_id в файле visit_log.csv определите третий столбец с категорией покупки \n",
    "#(если покупка была, сам файл visit_log.csv изменять не надо). \n",
    "#Запишите в файл funnel.csv визиты из файла visit_log.csv, в которых были покупки с указанием категории.\n",
    "\n",
    "with open('visit_log.csv', 'r', encoding = 'utf-8') as v:\n",
    "    with open('funnel.csv', 'w', encoding = 'utf-8') as r:\n",
    "        visits = v.readlines()[1:]\n",
    "        #print(content)\n",
    "        for l in visits:\n",
    "            l = l.strip().split(',')\n",
    "            if l[0] in purchases:\n",
    "                l.append(purchases[l[0]])\n",
    "                r.write(str(l))\n",
    "            print(l)"
   ]
  }
 ],
 "metadata": {
  "kernelspec": {
   "display_name": "Python 3",
   "language": "python",
   "name": "python3"
  },
  "language_info": {
   "codemirror_mode": {
    "name": "ipython",
    "version": 3
   },
   "file_extension": ".py",
   "mimetype": "text/x-python",
   "name": "python",
   "nbconvert_exporter": "python",
   "pygments_lexer": "ipython3",
   "version": "3.7.6"
  }
 },
 "nbformat": 4,
 "nbformat_minor": 4
}
