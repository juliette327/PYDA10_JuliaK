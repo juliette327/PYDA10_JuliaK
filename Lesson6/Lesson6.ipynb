{
 "cells": [
  {
   "cell_type": "code",
   "execution_count": null,
   "metadata": {},
   "outputs": [],
   "source": [
    "from datetime import datetime\n",
    "\n",
    "TMT = 'Wednesday, October 2, 2002'\n",
    "Guardian = 'Friday, 11.10.13'\n",
    "Daily_News = 'Thursday, 18 August 1977'\n",
    "\n",
    "datetime.strptime('Wednesday, October 2, 2002', '%A, %B %d, %Y')\n",
    "datetime.strptime('Friday, 11.10.13', '%A, %d.%m.%y')\n",
    "datetime.strptime('Thursday, 18 August 1977', '%A, %d %B %Y')"
   ]
  },
  {
   "cell_type": "code",
   "execution_count": 1,
   "metadata": {},
   "outputs": [
    {
     "name": "stdout",
     "output_type": "stream",
     "text": [
      "False\n"
     ]
    }
   ],
   "source": [
    "from datetime import datetime\n",
    "\n",
    "stream = ['2018-04-02', '2018-02-29', '2018-19-02']\n",
    "dates = {}\n",
    "\n",
    "def dates_check(stream):\n",
    "    for s in stream:\n",
    "        i = 0\n",
    "        try:\n",
    "            dt = datetime.strptime(s[i], '%Y-%m-%d')\n",
    "        except ValueError:  \n",
    "            return (dates.setdefault(s[i], 'False'))\n",
    "        dt = datetime.strptime(s[i], '%Y-%m-%d')\n",
    "        i += 1\n",
    "        return (dates.setdefault(s[i], 'True'))\n",
    " \n",
    "print(dates_check(stream))"
   ]
  },
  {
   "cell_type": "code",
   "execution_count": null,
   "metadata": {},
   "outputs": [],
   "source": [
    "from datetime import datetime\n",
    "from datetime import timedelta\n",
    "\n",
    "start_date = input('Введите дату YYYY-MM-DD')\n",
    "end_date = input('Введите дату YYYY-MM-DD')\n",
    "    \n",
    "def date_range():\n",
    "    try:\n",
    "        a = datetime.strptime(start_date, '%Y-%m-%d')\n",
    "        z = datetime.strptime(end_date, '%Y-%m-%d')\n",
    "    except:\n",
    "        print('None')\n",
    "    while a <= z:\n",
    "        print(a.strftime('%Y-%m-%d'))\n",
    "        a += timedelta(days=1)\n",
    "print(date_range())"
   ]
  }
 ],
 "metadata": {
  "kernelspec": {
   "display_name": "Python 3",
   "language": "python",
   "name": "python3"
  },
  "language_info": {
   "codemirror_mode": {
    "name": "ipython",
    "version": 3
   },
   "file_extension": ".py",
   "mimetype": "text/x-python",
   "name": "python",
   "nbconvert_exporter": "python",
   "pygments_lexer": "ipython3",
   "version": "3.7.6"
  }
 },
 "nbformat": 4,
 "nbformat_minor": 4
}
