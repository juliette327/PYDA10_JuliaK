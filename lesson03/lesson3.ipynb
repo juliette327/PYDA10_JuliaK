{
 "cells": [
  {
   "cell_type": "code",
   "execution_count": 1,
   "metadata": {},
   "outputs": [
    {
     "name": "stdout",
     "output_type": "stream",
     "text": [
      "[dict_values([['Москва', 'Россия']]), dict_values([['Владимир', 'Россия']]), dict_values([['Тула', 'Россия']]), dict_values([['Тула', 'Россия']]), dict_values([['Курск', 'Россия']]), dict_values([['Архангельск', 'Россия']])]\n"
     ]
    }
   ],
   "source": [
    "geo_logs = [\n",
    "    {'visit1': ['Москва', 'Россия']},\n",
    "    {'visit2': ['Дели', 'Индия']},\n",
    "    {'visit3': ['Владимир', 'Россия']},\n",
    "    {'visit4': ['Лиссабон', 'Португалия']},\n",
    "    {'visit5': ['Париж', 'Франция']},\n",
    "    {'visit6': ['Лиссабон', 'Португалия']},\n",
    "    {'visit7': ['Тула', 'Россия']},\n",
    "    {'visit8': ['Тула', 'Россия']},\n",
    "    {'visit9': ['Курск', 'Россия']},\n",
    "    {'visit10': ['Архангельск', 'Россия']}\n",
    "]\n",
    "\n",
    "new_list = [x.values() for x in geo_logs if list(x.values())[0][1]=='Россия']\n",
    "print(new_list)"
   ]
  },
  {
   "cell_type": "code",
   "execution_count": 3,
   "metadata": {},
   "outputs": [
    {
     "name": "stdout",
     "output_type": "stream",
     "text": [
      "[98, 35, 15, 213, 54, 119]\n"
     ]
    }
   ],
   "source": [
    "ids = {'user1': [213, 213, 213, 15, 213], \n",
    "       'user2': [54, 54, 119, 119, 119], \n",
    "       'user3': [213, 98, 98, 35]}\n",
    "\n",
    "u_id = []\n",
    "for geo_id in ids.values():\n",
    "    u_id.extend(geo_id)\n",
    "print(list(set(u_id)))"
   ]
  },
  {
   "cell_type": "code",
   "execution_count": 4,
   "metadata": {},
   "outputs": [
    {
     "name": "stdout",
     "output_type": "stream",
     "text": [
      "1\n",
      "Queries from :  1 words are  14.285714285714285 %\n",
      "1\n",
      "Queries from :  1 words are  14.285714285714285 %\n",
      "Queries from :  1 words are  14.285714285714285 %\n",
      "2\n",
      "Queries from :  2 words are  28.57142857142857 %\n",
      "Queries from :  2 words are  28.57142857142857 %\n",
      "3\n",
      "Queries from :  3 words are  42.857142857142854 %\n",
      "Queries from :  3 words are  42.857142857142854 %\n",
      "2\n",
      "Queries from :  2 words are  28.57142857142857 %\n",
      "Queries from :  2 words are  28.57142857142857 %\n",
      "3\n",
      "Queries from :  3 words are  42.857142857142854 %\n",
      "Queries from :  3 words are  42.857142857142854 %\n",
      "4\n",
      "Queries from :  4 words are  57.14285714285714 %\n",
      "Queries from :  4 words are  57.14285714285714 %\n"
     ]
    }
   ],
   "source": [
    "queries = [\n",
    "    'смотреть сериалы онлайн',\n",
    "    'новости спорта',\n",
    "    'афиша кино',\n",
    "    'курс доллара',\n",
    "    'сериалы этим летом',\n",
    "    'курс по питону',\n",
    "    'сериалы про спорт',\n",
    "]\n",
    "\n",
    "new_list = []\n",
    "\n",
    "queries_length = len(queries)\n",
    "for string in queries:\n",
    "    splitted_string = string.split(' ')\n",
    "    length = len(splitted_string)\n",
    "    str(new_list.append(length))\n",
    "    print(new_list.count(length))\n",
    "    unique_queries = set(new_list)\n",
    "    for x in unique_queries:\n",
    "        print('Queries from : ', new_list.count(length), 'words are ', new_list.count(length)/queries_length*100, '%')"
   ]
  },
  {
   "cell_type": "code",
   "execution_count": 5,
   "metadata": {},
   "outputs": [
    {
     "name": "stdout",
     "output_type": "stream",
     "text": [
      "yandex\n"
     ]
    }
   ],
   "source": [
    "stats = {'facebook': 55, 'yandex': 120, 'vk': 115, 'google': 99, 'email': 42, 'ok': 98}\n",
    "\n",
    "max_key = max(stats, key=stats.get)\n",
    "print(max_key)"
   ]
  },
  {
   "cell_type": "code",
   "execution_count": 8,
   "metadata": {},
   "outputs": [
    {
     "name": "stdout",
     "output_type": "stream",
     "text": [
      "{'2018-01-01': {'yandex': {'cpc': 100}}}\n"
     ]
    }
   ],
   "source": [
    "list = [\n",
    "    ['2018-01-01', 'yandex', 'cpc', 100]\n",
    "\n",
    "]\n",
    "\n",
    "d = {}\n",
    "for el in list:\n",
    "    if el[0] not in d.keys():\n",
    "        d[el[0]] = {el[1]:{el[2]:el[3]}}\n",
    "        continue\n",
    "    if el[1] not in d[el[0]].keys():\n",
    "        d[el[0]][el[1]] = {el[2]:el[3]}\n",
    "        continue\n",
    "    if el[2] not in d[el[0]][el[1]].keys():\n",
    "        d[el[0]][el[1]][el[2]] = el[3]\n",
    "\n",
    "print(d)"
   ]
  },
  {
   "cell_type": "code",
   "execution_count": null,
   "metadata": {},
   "outputs": [],
   "source": []
  }
 ],
 "metadata": {
  "kernelspec": {
   "display_name": "Python 3",
   "language": "python",
   "name": "python3"
  },
  "language_info": {
   "codemirror_mode": {
    "name": "ipython",
    "version": 3
   },
   "file_extension": ".py",
   "mimetype": "text/x-python",
   "name": "python",
   "nbconvert_exporter": "python",
   "pygments_lexer": "ipython3",
   "version": "3.7.6"
  }
 },
 "nbformat": 4,
 "nbformat_minor": 4
}
