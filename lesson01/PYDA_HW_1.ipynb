{
 "cells": [
  {
   "cell_type": "code",
   "execution_count": 1,
   "metadata": {},
   "outputs": [
    {
     "name": "stdout",
     "output_type": "stream",
     "text": [
      "True\n"
     ]
    }
   ],
   "source": [
    "long_phrase = 'Насколько проще было бы писать программы, если бы не заказчики'\n",
    "short_phrase = '640Кб должно хватить для любых задач. Билл Гейтс (по легенде)'\n",
    "\n",
    "if len(long_phrase) > len(short_phrase):\n",
    "    print('True')\n",
    "else:\n",
    "    print('False')"
   ]
  },
  {
   "cell_type": "code",
   "execution_count": 9,
   "metadata": {},
   "outputs": [
    {
     "name": "stdout",
     "output_type": "stream",
     "text": [
      "Объем файла равен 213.68 Mb\n"
     ]
    }
   ],
   "source": [
    "Kb = 224059719.68\n",
    "Mb = Kb/2**20\n",
    "print('Объем файла равен', Mb, 'Mb')"
   ]
  },
  {
   "cell_type": "code",
   "execution_count": 22,
   "metadata": {},
   "outputs": [
    {
     "name": "stdout",
     "output_type": "stream",
     "text": [
      "Введите день18\n",
      "Введите месяцноябрь\n",
      "Вывод: Скорпион\n"
     ]
    }
   ],
   "source": [
    "day = int(input('Введите день'))\n",
    "month = input('Введите месяц')\n",
    "\n",
    "if month == 'декабрь':\n",
    "    astro_sign = 'Стрелец' if (day < 22) else 'Козерог'\n",
    "elif month == 'январь':\n",
    "    astro_sign = 'Козерог' if (day < 22) else 'Водолей'\n",
    "elif month == 'февраль':\n",
    "    astro_sign = 'Водолей' if (day < 19) else 'Рыбы'\n",
    "elif month == 'март':\n",
    "    astro_sign = 'Рыбы' if (day < 21) else 'Овен'\n",
    "elif month == 'апрель':\n",
    "    astro_sign = 'Овен' if (day < 20) else 'Телец'\n",
    "elif month == 'май':\n",
    "    astro_sign = 'Телец' if (day < 21) else 'Близнецы'\n",
    "elif month == 'июль':\n",
    "    astro_sign = 'Близнецы' if (day < 21) else 'Рак'\n",
    "elif month == 'июль':\n",
    "    astro_sign = 'Рак' if (day < 23) else 'Лев'\n",
    "elif month == 'август':\n",
    "    astro_sign = 'Лев' if (day < 23) else 'Дева'\n",
    "elif month == 'сентябрь':\n",
    "    astro_sign = 'Дева' if (day < 23) else 'Весы'\n",
    "elif month == 'октябрь':\n",
    "    astro_sign = 'Весы' if (day < 23) else 'Скорпион'\n",
    "elif month == 'ноябрь':\n",
    "    astro_sign = 'Скорпион' if (day < 22) else 'Стрелец'\n",
    "print('Вывод:',astro_sign)"
   ]
  },
  {
   "cell_type": "code",
   "execution_count": 28,
   "metadata": {
    "scrolled": true
   },
   "outputs": [
    {
     "name": "stdout",
     "output_type": "stream",
     "text": [
      "Введите заработанную плату в месяц100000\n",
      "Введите сколько процентов уходит на ипотеку30\n",
      "Введите сколько процентов уходит на жизнь50\n",
      "Введите количество премий за год2\n",
      "На ипотеку было потрачено: 360000.0 рублей. Было накоплено 340000.0 рублей\n"
     ]
    }
   ],
   "source": [
    "salary = int(input('Введите заработанную плату в месяц'))\n",
    "mortage = salary * int(input('Введите сколько процентов уходит на ипотеку'))/100 *12\n",
    "cost_of_living = salary * int(input('Введите сколько процентов уходит на жизнь'))/100 *12\n",
    "bonus = salary * int(input('Введите количество премий за год'))\n",
    "saving = (salary * 12) - cost_of_living - mortage + bonus/2\n",
    "\n",
    "print('На ипотеку было потрачено:', mortage, 'рублей. Было накоплено', saving,'рублей')"
   ]
  },
  {
   "cell_type": "code",
   "execution_count": null,
   "metadata": {},
   "outputs": [],
   "source": []
  },
  {
   "cell_type": "code",
   "execution_count": null,
   "metadata": {},
   "outputs": [],
   "source": []
  }
 ],
 "metadata": {
  "kernelspec": {
   "display_name": "Python 3",
   "language": "python",
   "name": "python3"
  },
  "language_info": {
   "codemirror_mode": {
    "name": "ipython",
    "version": 3
   },
   "file_extension": ".py",
   "mimetype": "text/x-python",
   "name": "python",
   "nbconvert_exporter": "python",
   "pygments_lexer": "ipython3",
   "version": "3.7.6"
  }
 },
 "nbformat": 4,
 "nbformat_minor": 4
}
